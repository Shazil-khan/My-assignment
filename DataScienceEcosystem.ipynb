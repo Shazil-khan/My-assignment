{
 "cells": [
  {
   "cell_type": "markdown",
   "id": "f6efe8a3-0957-4a5b-947a-0737469cf002",
   "metadata": {},
   "source": [
    "# Data Science Tools and Ecosystem"
   ]
  },
  {
   "cell_type": "markdown",
   "id": "b5d6780c-ee50-4855-87d7-9c9528e282da",
   "metadata": {},
   "source": [
    "In this notebook, Data Science Tools and Ecosystem are summarized"
   ]
  },
  {
   "cell_type": "markdown",
   "id": "9307c4ea-10a7-4bf4-b78d-7cf519e00934",
   "metadata": {},
   "source": [
    "Some of the popular languages that Data Scientists use are\n",
    "<ol>\n",
    "    <li>Python</li>\n",
    "    <li>R</li>\n",
    "    <li>SQL</li>\n",
    "<ol>"
   ]
  },
  {
   "cell_type": "markdown",
   "id": "69a60089-a299-4eec-a421-2f9d6876397f",
   "metadata": {},
   "source": [
    "**Objectives**<br>\n",
    "<ul>\n",
    "    <li>Popular Datascience langauges</li>\n",
    "    <li>Arithmatic Calculations</li>\n",
    "    <li>Popular Data science libraries</li>\n",
    "    <li>Comments to write in code</li>\n",
    "</ul>"
   ]
  },
  {
   "cell_type": "markdown",
   "id": "423d77d3-bc30-4074-9ee2-6340876636c5",
   "metadata": {},
   "source": [
    "Some of the commonly used libraries used by Data Scientists include:<br>\n",
    "<ol>\n",
    "    <li>Numpy</li>\n",
    "    <li>Pandas</li>\n",
    "    <li>Sciket-Learn</li>\n",
    "<ol>\n"
   ]
  },
  {
   "cell_type": "markdown",
   "id": "78bf7e34-335b-4e03-880a-484303f3fa5e",
   "metadata": {},
   "source": [
    "<table>\n",
    "    <th>Data Science Tools</th>\n",
    "    <tr><td>Jupyter</td></tr>\n",
    "    <tr><td>R studio</td></tr>\n",
    "    <tr><td>Watson Studio</td></tr>\n",
    "</table>"
   ]
  },
  {
   "cell_type": "markdown",
   "id": "aee66c75-8cf1-43a4-ad27-1d07630d40d2",
   "metadata": {},
   "source": [
    "### Below are a few examples of evaluating arithmetic expressions in Python"
   ]
  },
  {
   "cell_type": "code",
   "execution_count": 1,
   "id": "688208db-ab29-47be-bd9c-35a9fb416481",
   "metadata": {},
   "outputs": [
    {
     "data": {
      "text/plain": [
       "17"
      ]
     },
     "execution_count": 1,
     "metadata": {},
     "output_type": "execute_result"
    }
   ],
   "source": [
    "#  This a simple arithmetic expression to mutiply then add integers\n",
    "(3*4)+5"
   ]
  },
  {
   "cell_type": "code",
   "execution_count": 2,
   "id": "ff153d86-244a-440a-8093-190ff8084808",
   "metadata": {},
   "outputs": [
    {
     "data": {
      "text/plain": [
       "3.3333333333333335"
      ]
     },
     "execution_count": 2,
     "metadata": {},
     "output_type": "execute_result"
    }
   ],
   "source": [
    "# This will convert 200 minutes to hours by diving by 60\n",
    "200/60"
   ]
  },
  {
   "cell_type": "markdown",
   "id": "708eda80-05db-45f9-902d-c3b9fbf751d7",
   "metadata": {},
   "source": [
    "## Author\n",
    "Muhammad Shazil Khan"
   ]
  }
 ],
 "metadata": {
  "kernelspec": {
   "display_name": "Python",
   "language": "python",
   "name": "conda-env-python-py"
  },
  "language_info": {
   "codemirror_mode": {
    "name": "ipython",
    "version": 3
   },
   "file_extension": ".py",
   "mimetype": "text/x-python",
   "name": "python",
   "nbconvert_exporter": "python",
   "pygments_lexer": "ipython3",
   "version": "3.7.12"
  }
 },
 "nbformat": 4,
 "nbformat_minor": 5
}
